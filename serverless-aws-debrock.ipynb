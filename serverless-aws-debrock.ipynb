{
  "cells": [
    {
      "cell_type": "code",
      "execution_count": null,
      "metadata": {
        "id": "Zzw_ZLAKqYtx"
      },
      "outputs": [],
      "source": [
        "!pip install boto3"
      ]
    },
    {
      "cell_type": "code",
      "source": [
        "import boto3\n",
        "import json\n",
        "import os"
      ],
      "metadata": {
        "id": "dnq4wHCJrJaL"
      },
      "execution_count": null,
      "outputs": []
    },
    {
      "cell_type": "code",
      "source": [
        "AWS_BEDROCK_CREDS = {\n",
        "    \"aws_access_key_id\": os.getenv(\"AWS_ACCESS_KEY\"),\n",
        "    \"aws_secret_access_key\": os.getenv(\"AWS_SECRET_KEY\")\n",
        "}"
      ],
      "metadata": {
        "id": "P3G0xJQdszCi"
      },
      "execution_count": null,
      "outputs": []
    },
    {
      "cell_type": "markdown",
      "source": [],
      "metadata": {
        "id": "GfKTYiD6riCe"
      }
    },
    {
      "cell_type": "code",
      "source": [
        "bedrock = boto3.client('bedrock-runtime', region_name='us-east-1', **AWS_BEDROCK_CREDS)"
      ],
      "metadata": {
        "id": "-9EbZjvVrMX-"
      },
      "execution_count": null,
      "outputs": []
    },
    {
      "cell_type": "code",
      "source": [
        "prompt = \"Talk about the beauty of outer space.\""
      ],
      "metadata": {
        "id": "3Rz6HC95rfyE"
      },
      "execution_count": null,
      "outputs": []
    },
    {
      "cell_type": "code",
      "source": [
        "kwargs = {\n",
        "    \"modelId\": \"amazon.titan-text-express-v1\",\n",
        "    \"contentType\": \"application/json\",\n",
        "    \"accept\": \"*/*\",\n",
        "    \"body\": json.dumps(\n",
        "        {\n",
        "            \"inputText\": prompt,\n",
        "            \"textGenerationConfig\": {\n",
        "                \"maxTokenCount\": 512,\n",
        "                #\"stopSequences\": [],\n",
        "                \"temperature\": 0.2, # How creative the generation will be\n",
        "                \"topP\": 0.9 # Contraining the number of options when the LLM is choosing which will be the next output token\n",
        "            }\n",
        "        }\n",
        "    )\n",
        "}"
      ],
      "metadata": {
        "id": "VT-OJiN9rzQQ"
      },
      "execution_count": null,
      "outputs": []
    },
    {
      "cell_type": "markdown",
      "source": [],
      "metadata": {
        "id": "QEJjeLNv2dNP"
      }
    },
    {
      "cell_type": "code",
      "source": [
        "response = bedrock.invoke_model(**kwargs)"
      ],
      "metadata": {
        "id": "PbGzwj6Nr6w3"
      },
      "execution_count": null,
      "outputs": []
    },
    {
      "cell_type": "code",
      "source": [
        "json_response = json.loads(response.get(\"body\").read())\n",
        "text_response = json_response[\"results\"][0][\"outputText\"]"
      ],
      "metadata": {
        "id": "54f5ps40xeWg"
      },
      "execution_count": null,
      "outputs": []
    },
    {
      "cell_type": "code",
      "source": [
        "print(text_response)"
      ],
      "metadata": {
        "id": "3s10FJvj0gO5"
      },
      "execution_count": null,
      "outputs": []
    }
  ],
  "metadata": {
    "kernelspec": {
      "display_name": "Python 3",
      "language": "python",
      "name": "python3"
    },
    "language_info": {
      "codemirror_mode": {
        "name": "ipython",
        "version": 3
      },
      "file_extension": ".py",
      "mimetype": "text/x-python",
      "name": "python",
      "nbconvert_exporter": "python",
      "pygments_lexer": "ipython3",
      "version": "3.11.9"
    },
    "colab": {
      "provenance": []
    }
  },
  "nbformat": 4,
  "nbformat_minor": 0
}