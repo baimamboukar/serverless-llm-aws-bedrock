{
  "cells": [
    {
      "cell_type": "code",
      "execution_count": 5,
      "metadata": {
        "colab": {
          "base_uri": "https://localhost:8080/"
        },
        "id": "Zzw_ZLAKqYtx",
        "outputId": "62916f37-2366-4633-b45c-40ab77327115"
      },
      "outputs": [
        {
          "output_type": "stream",
          "name": "stdout",
          "text": [
            "Collecting boto3\n",
            "  Downloading boto3-1.35.3-py3-none-any.whl.metadata (6.6 kB)\n",
            "Collecting botocore<1.36.0,>=1.35.3 (from boto3)\n",
            "  Downloading botocore-1.35.3-py3-none-any.whl.metadata (5.7 kB)\n",
            "Collecting jmespath<2.0.0,>=0.7.1 (from boto3)\n",
            "  Downloading jmespath-1.0.1-py3-none-any.whl.metadata (7.6 kB)\n",
            "Collecting s3transfer<0.11.0,>=0.10.0 (from boto3)\n",
            "  Downloading s3transfer-0.10.2-py3-none-any.whl.metadata (1.7 kB)\n",
            "Requirement already satisfied: python-dateutil<3.0.0,>=2.1 in /usr/local/lib/python3.10/dist-packages (from botocore<1.36.0,>=1.35.3->boto3) (2.8.2)\n",
            "Requirement already satisfied: urllib3!=2.2.0,<3,>=1.25.4 in /usr/local/lib/python3.10/dist-packages (from botocore<1.36.0,>=1.35.3->boto3) (2.0.7)\n",
            "Requirement already satisfied: six>=1.5 in /usr/local/lib/python3.10/dist-packages (from python-dateutil<3.0.0,>=2.1->botocore<1.36.0,>=1.35.3->boto3) (1.16.0)\n",
            "Downloading boto3-1.35.3-py3-none-any.whl (139 kB)\n",
            "\u001b[2K   \u001b[90m━━━━━━━━━━━━━━━━━━━━━━━━━━━━━━━━━━━━━━━━\u001b[0m \u001b[32m139.1/139.1 kB\u001b[0m \u001b[31m4.0 MB/s\u001b[0m eta \u001b[36m0:00:00\u001b[0m\n",
            "\u001b[?25hDownloading botocore-1.35.3-py3-none-any.whl (12.5 MB)\n",
            "\u001b[2K   \u001b[90m━━━━━━━━━━━━━━━━━━━━━━━━━━━━━━━━━━━━━━━━\u001b[0m \u001b[32m12.5/12.5 MB\u001b[0m \u001b[31m63.6 MB/s\u001b[0m eta \u001b[36m0:00:00\u001b[0m\n",
            "\u001b[?25hDownloading jmespath-1.0.1-py3-none-any.whl (20 kB)\n",
            "Downloading s3transfer-0.10.2-py3-none-any.whl (82 kB)\n",
            "\u001b[2K   \u001b[90m━━━━━━━━━━━━━━━━━━━━━━━━━━━━━━━━━━━━━━━━\u001b[0m \u001b[32m82.7/82.7 kB\u001b[0m \u001b[31m6.2 MB/s\u001b[0m eta \u001b[36m0:00:00\u001b[0m\n",
            "\u001b[?25hInstalling collected packages: jmespath, botocore, s3transfer, boto3\n",
            "Successfully installed boto3-1.35.3 botocore-1.35.3 jmespath-1.0.1 s3transfer-0.10.2\n"
          ]
        }
      ],
      "source": [
        "!pip install boto3"
      ]
    },
    {
      "cell_type": "code",
      "source": [],
      "metadata": {
        "id": "SRZVFO3hq1W-"
      },
      "execution_count": null,
      "outputs": []
    },
    {
      "cell_type": "code",
      "source": [
        "import boto3\n",
        "import json\n",
        "import os"
      ],
      "metadata": {
        "id": "dnq4wHCJrJaL"
      },
      "execution_count": 16,
      "outputs": []
    },
    {
      "cell_type": "code",
      "source": [
        "AWS_BEDROCK_CREDS = {\n",
        "    \"aws_access_key_id\": os.getenv(\"AWS_ACCESS_KEY\"),\n",
        "    \"aws_secret_access_key\": os.getenv(\"AWS_SECRET_KEY\")\n",
        "}"
      ],
      "metadata": {
        "id": "P3G0xJQdszCi"
      },
      "execution_count": 24,
      "outputs": []
    },
    {
      "cell_type": "markdown",
      "source": [],
      "metadata": {
        "id": "GfKTYiD6riCe"
      }
    },
    {
      "cell_type": "code",
      "source": [
        "bedrock = boto3.client('bedrock-runtime', region_name='us-east-1', **AWS_BEDROCK_CREDS)"
      ],
      "metadata": {
        "id": "-9EbZjvVrMX-"
      },
      "execution_count": 30,
      "outputs": []
    },
    {
      "cell_type": "code",
      "source": [
        "prompt = \"Talk about the beauty of outer space.\""
      ],
      "metadata": {
        "id": "3Rz6HC95rfyE"
      },
      "execution_count": 42,
      "outputs": []
    },
    {
      "cell_type": "code",
      "source": [
        "kwargs = {\n",
        "    \"modelId\": \"amazon.titan-text-express-v1\",\n",
        "    \"contentType\": \"application/json\",\n",
        "    \"accept\": \"*/*\",\n",
        "    \"body\": json.dumps(\n",
        "        {\n",
        "            \"inputText\": prompt,\n",
        "            \"textGenerationConfig\": {\n",
        "                \"maxTokenCount\": 512,\n",
        "                #\"stopSequences\": [],\n",
        "                \"temperature\": 0.2, # How creative the generation will be\n",
        "                \"topP\": 0.9 # Contraining the number of options when the LLM is choosing which will be the next output token\n",
        "            }\n",
        "        }\n",
        "    )\n",
        "}"
      ],
      "metadata": {
        "id": "VT-OJiN9rzQQ"
      },
      "execution_count": 62,
      "outputs": []
    },
    {
      "cell_type": "markdown",
      "source": [],
      "metadata": {
        "id": "QEJjeLNv2dNP"
      }
    },
    {
      "cell_type": "code",
      "source": [
        "response = bedrock.invoke_model(**kwargs)"
      ],
      "metadata": {
        "id": "PbGzwj6Nr6w3"
      },
      "execution_count": 63,
      "outputs": []
    },
    {
      "cell_type": "code",
      "source": [
        "json_response = json.loads(response.get(\"body\").read())\n",
        "text_response = json_response[\"results\"][0][\"outputText\"]"
      ],
      "metadata": {
        "id": "54f5ps40xeWg"
      },
      "execution_count": 64,
      "outputs": []
    },
    {
      "cell_type": "code",
      "source": [
        "print(text_response)"
      ],
      "metadata": {
        "colab": {
          "base_uri": "https://localhost:8080/"
        },
        "id": "3s10FJvj0gO5",
        "outputId": "afa5446d-0777-4f34-9438-f5c5f6dc231f"
      },
      "execution_count": 65,
      "outputs": [
        {
          "output_type": "stream",
          "name": "stdout",
          "text": [
            "\n",
            "Space is a vast and mysterious place that has captivated humans for centuries. It is a place of endless possibilities and wonders, and it has inspired countless works of art, literature, and science.\n",
            "\n",
            "One of the most striking features of space is its vastness. The universe is estimated to be over 13.8 billion years old, and it contains billions of stars, planets, and galaxies. Each of these objects is unique and beautiful in its own way, and they all interact with each other in complex ways.\n",
            "\n",
            "One of the most famous objects in space is the Milky Way Galaxy. The Milky Way is a massive galaxy that contains over 100 billion stars, and it is located about 26,000 light-years from Earth. The galaxy is visible to the naked eye, and it is one of the most beautiful objects in the night sky.\n",
            "\n",
            "Another famous object in space is the Moon. The Moon is a natural satellite of Earth, and it is the only natural satellite in the solar system. The Moon is about 238,900 miles from Earth, and it is about the same size as Earth. The Moon is a fascinating object, and it has been studied by scientists for centuries.\n",
            "\n",
            "Space is also home to many other objects, including asteroids, comets, and black holes. Asteroids are small, rocky objects that orbit the Sun, and they can be dangerous if they collide with Earth. Comets are icy objects that orbit the Sun, and they can produce spectacular displays of light and color when they pass close to Earth. Black holes are massive objects that have a gravitational pull so strong that nothing can escape them, including light.\n",
            "\n",
            "Despite its beauty, space is also a dangerous place. The environment in space is harsh, and it can be difficult for humans to survive for long periods of time. The temperature in space can range from extremely cold to extremely hot, and there is no atmosphere to protect humans from the harmful effects of radiation.\n",
            "\n",
            "Despite these challenges, humans have made significant progress in exploring space. In the 1960s, the United States launched the Apollo program, which sent astronauts to the Moon. The Apollo program was a huge success, and it helped to inspire a generation of scientists and engineers.\n",
            "\n",
            "In recent years, humans have also begun to explore space in more detail. The International Space Station (ISS) is a permanent research station that orbits the Earth, and it is home to a variety of scientists\n"
          ]
        }
      ]
    },
    {
      "cell_type": "code",
      "source": [
        "!git add .\n",
        "!git commit -m \"chore: implement titan-express inference\"\n",
        "!git push"
      ],
      "metadata": {
        "colab": {
          "base_uri": "https://localhost:8080/"
        },
        "id": "cNu-OZ6C0wWL",
        "outputId": "b7368e76-b65a-437f-fd30-12e1553f1b6a"
      },
      "execution_count": 66,
      "outputs": [
        {
          "output_type": "stream",
          "name": "stdout",
          "text": [
            "fatal: not a git repository (or any of the parent directories): .git\n",
            "fatal: not a git repository (or any of the parent directories): .git\n",
            "fatal: not a git repository (or any of the parent directories): .git\n"
          ]
        }
      ]
    },
    {
      "cell_type": "code",
      "source": [],
      "metadata": {
        "id": "bwbfeFIW71t6"
      },
      "execution_count": null,
      "outputs": []
    }
  ],
  "metadata": {
    "kernelspec": {
      "display_name": "Python 3",
      "language": "python",
      "name": "python3"
    },
    "language_info": {
      "codemirror_mode": {
        "name": "ipython",
        "version": 3
      },
      "file_extension": ".py",
      "mimetype": "text/x-python",
      "name": "python",
      "nbconvert_exporter": "python",
      "pygments_lexer": "ipython3",
      "version": "3.11.9"
    },
    "colab": {
      "provenance": []
    }
  },
  "nbformat": 4,
  "nbformat_minor": 0
}